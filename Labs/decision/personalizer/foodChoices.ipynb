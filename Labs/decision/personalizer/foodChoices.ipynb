{
 "cells": [
  {
   "cell_type": "markdown",
   "metadata": {},
   "source": [
    "# Personalizer\n",
    "\n",
    "*Personalizer* is a service that allows the application to chooise the best **single** content item to show to the user. Personalizer uses reinforcement learning techniques to enable the selection of the best item is based on the features about the content and the context. The selection is based on the collective behaviour and the reward score for all the users. \n",
    "\n",
    "The **Azure Personalizer** cognitive service in Microsoft Azure provides a cloud-based solution for creating personalized journeys for the users..\n",
    "\n",
    "## Create a Personalizer resource\n",
    "\n",
    "To use the Personalizer service, you need an Azure resource that you can use to train a model, and a resource with which you can publish it for applications to use. Unlike other congnitive services you will need to use one resource for every task you create. It would not be advisable to merge different content, or actions within the same resource. \n",
    "\n",
    "1. In a new browser tab, open the Azure portal at [https://portal.azure.com](https://portal.azure.com), and sign in using the Microsoft account associated with your Azure subscription.\n",
    "2. Select the **&#65291;Create a resource** button, search for *personalizer*, and create a **Personalizer** resource with the following settings:\n",
    "    - **Name**: *Enter a unique name*\n",
    "    - **Subscription**: *Your Azure subscription*\n",
    "    - **Location**: *Choose any available region*\n",
    "    - **Pricing tier**: F0\n",
    "    > **Note**: F0 tiers allows you about 50K transactions a month, that would be sufficient when you try out, but for all practical purposes you will need to setup a **S0** tier to be of any utility.\n",
    "\n",
    "3. Wait for deployment to complete. Then go to your cognitive services resource, and on the **Overview** page, click the link to manage the keys for the service. You will need the endpoint and keys to connect to your cognitive services resource from client applications.\n",
    "\n",
    "### Get the Key and Endpoint for your Personalizer resource\n",
    "\n",
    "To use your cognitive services resource, client applications need its  endpoint and authentication key:\n",
    "\n",
    "1. In the Azure portal, on the **Keys and Endpoint** page for your personalizer resource, copy the **Key1** for your resource and paste it in the code below, replacing **YOUR_PER_KEY**.\n",
    "2. Copy the **endpoint** for your resource and and paste it in the code below, replacing **YOUR_PER_ENDPOINT**.\n",
    "3. Run the code in the cell below by clicking its green <span style=\"color:green\">&#9655</span> button."
   ]
  },
  {
   "cell_type": "code",
   "execution_count": null,
   "metadata": {},
   "outputs": [],
   "source": [
    "personalizer_key = 'YOUR_PER_KEY'\n",
    "personalizer_endpoint = 'YOUR_PER_ENDPOINT'\n",
    "\n",
    "print('Ready to use personalizer services at {} using key {}'.format(cog_endpoint, cog_key))"
   ]
  },
  {
   "cell_type": "code",
   "execution_count": null,
   "metadata": {},
   "outputs": [],
   "source": [
    "from azure.cognitiveservices.personalizer import PersonalizerClient\n",
    "from azure.cognitiveservices.personalizer.models import RankableAction, RewardRequest, RankRequest\n",
    "from msrest.authentication import CognitiveServicesCredentials"
   ]
  },
  {
   "cell_type": "code",
   "execution_count": null,
   "metadata": {},
   "outputs": [],
   "source": [
    "# Instantiate a Personalizer client\n",
    "client = PersonalizerClient(personalizer_endpoint, CognitiveServicesCredentials(personalizer_key))"
   ]
  },
  {
   "cell_type": "code",
   "execution_count": null,
   "metadata": {},
   "outputs": [],
   "source": [
    "#\n",
    "# Actions are the content items, such as news articles, specific movies, or products that the users\n",
    "# can choose from. You can also define the attributes / features for each of the action. Unlike a \n",
    "# machine learning you dont have to define all the features for every action.\n",
    "#  \n",
    "def get_actions():\n",
    "    action1 = RankableAction(id='pasta', features=[{\"taste\": \"salty\", \"spice_level\": \"medium\"},\n",
    "                                                   {\"nutrition_level\": 5, \"cuisine\": \"italian\"}])\n",
    "    action2 = RankableAction(id='ice cream',\n",
    "                             features=[{\"taste\": \"sweet\", \"spice_level\": \"none\"}, {\"nutritional_level\": 2}])\n",
    "    action3 = RankableAction(id='juice', features=[{\"taste\": \"sweet\", 'spice_level': 'none'}, {'nutritional_level': 5},\n",
    "                                                   {'drink': True}])\n",
    "    action4 = RankableAction(id='salad', features=[{'taste': 'salty', 'spice_level': 'none'}, {'nutritional_level': 2}])\n",
    "    return [action1, action2, action3, action4]"
   ]
  },
  {
   "cell_type": "markdown",
   "metadata": {},
   "source": [
    "# Creating user features\n",
    "Now we will create user features for which we will make the action recommendation for.\n",
    "In our current case we are asking the user their choice for taste and the time of the day."
   ]
  },
  {
   "cell_type": "code",
   "execution_count": null,
   "metadata": {},
   "outputs": [],
   "source": [
    "#\n",
    "# Create user feature: Taste Preference\n",
    "def get_user_preference(rand=False):\n",
    "    res = {}\n",
    "    taste_features = ['salty', 'sweet']\n",
    "\n",
    "    if not rand:\n",
    "        pref = input(\"What type of food would you prefer? Enter number 1.salty 2.sweet\\n\")\n",
    "\n",
    "        try:\n",
    "            ppref = int(pref)\n",
    "            if (ppref <= 0 or ppref > len(taste_features)):\n",
    "                raise IndexError\n",
    "            res['taste_preference'] = taste_features[ppref - 1]\n",
    "        except (ValueError, IndexError):\n",
    "            print(\"Entered value is invalid. Setting feature value to\", taste_features[0] + \".\")\n",
    "            res['taste_preference'] = taste_features[0]\n",
    "    else:\n",
    "        res['taste_preference'] = choice(taste_features)\n",
    "        print(\"Randomly picked \", res['taste_preference'] + \".\")\n",
    "    return res"
   ]
  },
  {
   "cell_type": "code",
   "execution_count": null,
   "metadata": {},
   "outputs": [],
   "source": [
    "#\n",
    "# Create user feature: Time of the day\n",
    "def get_user_timeofday(rand=False):\n",
    "    res = {}\n",
    "    time_features = [\"morning\", \"afternoon\", \"evening\", \"night\"]\n",
    "    if not rand:\n",
    "        time = input(\"What time of day is it (enter number)? 1. morning 2. afternoon 3. evening 4. night\\n\")\n",
    "        try:\n",
    "            ptime = int(time)\n",
    "            if (ptime <= 0 or ptime > len(time_features)):\n",
    "                raise IndexError\n",
    "            res['time_of_day'] = time_features[ptime - 1]\n",
    "        except (ValueError, IndexError):\n",
    "            print(\"Entered value is invalid. Setting feature value to\", time_features[0] + \".\")\n",
    "            res['time_of_day'] = time_features[0]\n",
    "    else:\n",
    "        res['time_of_day'] = choice(time_features)\n",
    "        print(\"Randomly picked \", res['time_of_day'] + \".\")\n",
    "    return res"
   ]
  },
  {
   "cell_type": "markdown",
   "metadata": {},
   "source": [
    "# Main Loop"
   ]
  },
  {
   "cell_type": "code",
   "execution_count": null,
   "metadata": {},
   "outputs": [],
   "source": [
    "keep_going = True\n",
    "while keep_going:\n",
    "\n",
    "    eventid = str(uuid.uuid4())\n",
    "\n",
    "    context = [get_user_preference(), get_user_timeofday()]\n",
    "    actions = get_actions()\n",
    "\n",
    "    # <rank>\n",
    "    # We get this from the personalizer to suggest what actions can the user take. \n",
    "    # In the first few (1000s) of iterations it will random, but once it starts to \n",
    "    # understand what the choices are for the given features, the algorithm will \n",
    "    # start to make good recommendations. \n",
    "    rank_request = RankRequest(actions=actions, context_features=context, excluded_actions=['juice'], event_id=eventid)\n",
    "    response = client.rank(rank_request=rank_request)\n",
    "    # </rank>\n",
    "\n",
    "    print(\"Personalizer service ranked the actions with the probabilities listed below:\")\n",
    "\n",
    "    rankedList = response.ranking\n",
    "    for ranked in rankedList:\n",
    "        print(ranked.id, ':', ranked.probability)\n",
    "\n",
    "    print(\"Personalizer thinks you would like to have\", response.reward_action_id + \".\")\n",
    "    answer = input(\"Is this correct?(y/n)\\n\")[0]\n",
    "\n",
    "    # <reward>\n",
    "    # Rewards is way to let the personalizer know whether the choice is correct or incorrect. \n",
    "    # The rewards have to be between 0 and 1, both values are inclusive. \n",
    "    reward_val = \"0.0\"\n",
    "    if (answer.lower() == 'y'):\n",
    "        reward_val = \"1.0\"\n",
    "    elif (answer.lower() == 'n'):\n",
    "        reward_val = \"0.0\"\n",
    "    else:\n",
    "        print(\"Entered choice is invalid. Service assumes that you didn't like the recommended food choice.\")\n",
    "\n",
    "    client.events.reward(event_id=eventid, value=reward_val)\n",
    "    # </reward>\n",
    "\n",
    "    br = input(\"Press Q to exit, any other key to continue: \")[0]\n",
    "    if (br.lower() == 'q'):\n",
    "        keep_going = False"
   ]
  },
  {
   "cell_type": "markdown",
   "metadata": {},
   "source": [
    "### An automated version to run multiple iterations"
   ]
  },
  {
   "cell_type": "code",
   "execution_count": null,
   "metadata": {},
   "outputs": [],
   "source": [
    "num_requests = 500\n",
    "i = 1\n",
    "\n",
    "while i <= num_requests:\n",
    "\n",
    "    eventid = str(uuid.uuid4())\n",
    "\n",
    "    context = [get_user_preference(rand=True), \n",
    "                get_user_timeofday(rand=True)]\n",
    "    actions = get_actions()\n",
    "\n",
    "    # <rank>\n",
    "    rank_request = RankRequest(actions=actions, context_features=context, event_id=eventid)\n",
    "    response = client.rank(rank_request=rank_request)\n",
    "    # </rank>\n",
    "\n",
    "    print(\"Personalizer service ranked the actions with the probabilities listed below:\")\n",
    "\n",
    "    rankedList = response.ranking\n",
    "    for ranked in rankedList:\n",
    "        print(ranked.id, ':', ranked.probability)\n",
    "\n",
    "    print(\"Personalizer thinks you would like to have\", response.reward_action_id + \".\")\n",
    "\n",
    "    if (i % 50 == 0):\n",
    "        print(\"Waiting for 2 minutes to allow for model update\")\n",
    "        time.sleep(120)\n",
    "\n",
    "    # <reward>\n",
    "    answer = get_reward(context[1]['time_of_day'], context[0]['taste_preference'], response.reward_action_id)\n",
    "    print('Correct Choice' if answer == 1 else 'Incorrect Choice')\n",
    "    client.events.reward(event_id=eventid, value=answer)\n",
    "\n",
    "    print(\" \")\n",
    "\n",
    "    # </reward>\n",
    "    i += 1"
   ]
  }
 ],
 "metadata": {
  "language_info": {
   "codemirror_mode": {
    "name": "ipython",
    "version": 3
   },
   "file_extension": ".py",
   "mimetype": "text/x-python",
   "name": "python",
   "nbconvert_exporter": "python",
   "pygments_lexer": "ipython3",
   "version": 3
  },
  "orig_nbformat": 2
 },
 "nbformat": 4,
 "nbformat_minor": 2
}