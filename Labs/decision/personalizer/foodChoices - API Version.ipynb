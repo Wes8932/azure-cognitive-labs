{
 "cells": [
  {
   "cell_type": "markdown",
   "metadata": {},
   "source": [
    "# Personalizer\n",
    "\n",
    "*Personalizer* is a service that allows the application to chooise the best **single** content item to show to the user. Personalizer uses reinforcement learning techniques to enable the selection of the best item is based on the features about the content and the context. The selection is based on the collective behaviour and the reward score for all the users. \n",
    "\n",
    "The **Azure Personalizer** cognitive service in Microsoft Azure provides a cloud-based solution for creating personalized journeys for the users..\n",
    "\n",
    "## Create a Personalizer resource\n",
    "\n",
    "To use the Personalizer service, you need an Azure resource that you can use to train a model, and a resource with which you can publish it for applications to use. Unlike other congnitive services you will need to use one resource for every task you create. It would not be advisable to merge different content, or actions within the same resource. \n",
    "\n",
    "1. In a new browser tab, open the Azure portal at [https://portal.azure.com](https://portal.azure.com), and sign in using the Microsoft account associated with your Azure subscription.\n",
    "2. Select the **&#65291;Create a resource** button, search for *personalizer*, and create a **Personalizer** resource with the following settings:\n",
    "    - **Name**: *Enter a unique name*\n",
    "    - **Subscription**: *Your Azure subscription*\n",
    "    - **Location**: *Choose any available region*\n",
    "    - **Pricing tier**: F0\n",
    "    > **Note**: F0 tiers allows you about 50K transactions a month, that would be sufficient when you try out, but for all practical purposes you will need to setup a **S0** tier to be of any utility.\n",
    "\n",
    "3. Wait for deployment to complete. Then go to your cognitive services resource, and on the **Overview** page, click the link to manage the keys for the service. You will need the endpoint and keys to connect to your cognitive services resource from client applications.\n",
    "\n",
    "### Get the Key and Endpoint for your Personalizer resource\n",
    "\n",
    "To use your cognitive services resource, client applications need its  endpoint and authentication key:\n",
    "\n",
    "1. In the Azure portal, on the **Keys and Endpoint** page for your personalizer resource, copy the **Key1** for your resource and paste it in the code below, replacing **YOUR_PER_KEY**.\n",
    "2. Copy the **endpoint** for your resource and and paste it in the code below, replacing **YOUR_PER_ENDPOINT**.\n",
    "3. Run the code in the cell below by clicking its green <span style=\"color:green\">&#9655</span> button."
   ]
  },
  {
   "cell_type": "code",
   "execution_count": null,
   "metadata": {},
   "outputs": [],
   "source": [
    "personalizer_key = 'YOUR_PER_KEY'\n",
    "personalizer_endpoint = 'YOUR_PER_ENDPOINT'\n",
    "\n",
    "print('Ready to use personalizer services at {} using key {}'.format(cog_endpoint, cog_key))"
   ]
  },
  {
   "cell_type": "code",
   "execution_count": null,
   "metadata": {},
   "outputs": [],
   "source": [
    "import json\n",
    "import matplotlib.pyplot as plt\n",
    "import random\n",
    "import requests\n",
    "import time\n",
    "import os\n",
    "import uuid"
   ]
  },
  {
   "cell_type": "code",
   "execution_count": null,
   "metadata": {},
   "outputs": [],
   "source": [
    "# Setup the APIs\n",
    "personalization_rank_url = personalizer_endpoint + \"/personalizer/v1.0/rank\"\n",
    "personalization_reward_url = personalizer_endpoint + \"/personalizer/v1.0/events/\"  \n",
    "# add \"{eventId}/reward\"\n",
    "headers = {'Ocp-Apim-Subscription-Key': personalizer_key, 'Content-Type': 'application/json'}"
   ]
  },
  {
   "cell_type": "markdown",
   "metadata": {},
   "source": [
    "# Creating user features\n",
    "Now we will create user features for which we will make the action recommendation for.\n",
    "In our current case we are asking the user their choice for taste and the time of the day."
   ]
  },
  {
   "cell_type": "code",
   "execution_count": null,
   "metadata": {},
   "outputs": [],
   "source": [
    "#\n",
    "# Feature files with attributes\n",
    "# \n",
    "# The example file defines 4 users and thier choice of beverage depending on \n",
    "# the weather and time of the day\n",
    "examplepath = os.path.join('data', 'example.json')\n",
    "with open(examplepath) as handle:\n",
    "    userpref = json.loads(handle.read())"
   ]
  },
  {
   "cell_type": "code",
   "execution_count": null,
   "metadata": {},
   "outputs": [],
   "source": [
    "requestpath = os.path.join('data', \"rankrequest.json\")\n",
    "with open(requestpath) as handle:\n",
    "    rankactionsjsonobj = json.loads(handle.read())"
   ]
  },
  {
   "cell_type": "code",
   "execution_count": null,
   "metadata": {},
   "outputs": [],
   "source": [
    "# Actions are the content items, such as news articles, specific movies, or products that the users\n",
    "# can choose from. You can also define the attributes / features for each of the action. Unlike a \n",
    "# machine learning you dont have to define all the features for every action.\n",
    "# In this example, we re defining the features of each coffee.\n",
    "actionfeaturespath = os.path.join('data', \"actionfeatures.json\")\n",
    "with open(actionfeaturespath) as handle:\n",
    "    actionfeaturesobj = json.loads(handle.read())"
   ]
  },
  {
   "cell_type": "code",
   "execution_count": null,
   "metadata": {},
   "outputs": [],
   "source": [
    "# Reward function that determines if the choice made by the personalizer is correct?\n",
    "# In case of a correct choice, the reward is set to 1, else 0.\n",
    "def get_reward_from_simulated_data(name, weather, timeofday, prediction):\n",
    "    if userpref[name][weather][timeofday] == str(prediction):\n",
    "        return 1\n",
    "    return 0"
   ]
  },
  {
   "cell_type": "code",
   "execution_count": null,
   "metadata": {},
   "outputs": [],
   "source": [
    "#\n",
    "# Helper functions\n",
    "def add_event_id(rankjsonobj):\n",
    "    eventid = uuid.uuid4().hex\n",
    "    rankjsonobj[\"eventId\"] = eventid\n",
    "    return eventid\n",
    "\n",
    "\n",
    "def add_random_user_and_contextfeatures(namesoption, weatheropt, timeofdayopt, rankjsonobj):\n",
    "    name = namesopt[random.randint(0,3)]\n",
    "    weather = weatheropt[random.randint(0,2)]\n",
    "    timeofday = timeofdayopt[random.randint(0,2)]\n",
    "    rankjsonobj['contextFeatures'] = [{'timeofday': timeofday, 'weather': weather, 'name': name}]\n",
    "    return [name, weather, timeofday]\n",
    "\n",
    "\n",
    "def add_action_features(rankjsonobj):\n",
    "    rankjsonobj[\"actions\"] = actionfeaturesobj    "
   ]
  },
  {
   "cell_type": "markdown",
   "metadata": {},
   "source": [
    "# Main Loop"
   ]
  },
  {
   "cell_type": "code",
   "execution_count": null,
   "metadata": {},
   "outputs": [],
   "source": [
    "i = 1\n",
    "num_requests = 1000\n",
    "recommendations = 0\n",
    "reward = 0\n",
    "rewards = []\n",
    "count = []\n",
    "rankjsonobj = rankactionsjsonobj\n",
    "\n",
    "namesopt = ['Alice', 'Bob', 'Cathy', 'Dave']\n",
    "weatheropt = ['Sunny', 'Rainy', 'Snowy']\n",
    "timeofdayopt = ['Morning', 'Afternoon', 'Evening']"
   ]
  },
  {
   "cell_type": "code",
   "execution_count": null,
   "metadata": {},
   "outputs": [],
   "source": [
    "while (i <= num_requests):\n",
    "\n",
    "    # create unique id to associate with an event\n",
    "    eventid = add_event_id(rankjsonobj)\n",
    "\n",
    "    # generate a random sample\n",
    "    [name, weather, timeofday] = add_random_user_and_contextfeatures(namesopt, weatheropt, timeofdayopt, rankjsonobj)\n",
    "\n",
    "    # add action features to rank\n",
    "    add_action_features(rankjsonobj)\n",
    "\n",
    "    # choose an action\n",
    "    response = requests.post(personalization_rank_url, headers=headers, params=None, json=rankjsonobj)\n",
    "\n",
    "    # compare personalization service recommendation with the simulated data to generate a reward value\n",
    "    prediction = json.dumps(response.json()[\"rewardActionId\"]).replace('\"', '')\n",
    "    reward = get_reward_from_simulated_data(name, weather, timeofday, prediction)\n",
    "\n",
    "    # send the reward to the service\n",
    "    response = requests.post(personalization_reward_url + eventid + \"/reward\", headers=headers, params=None,\n",
    "                             json={\"value\": reward})\n",
    "\n",
    "    # for every 10 rank request compute total correct recommendations\n",
    "    recommendations = recommendations + reward\n",
    "\n",
    "    # wait (>5 mins) between sending more events to observe learning in the next batch\n",
    "    if (i % 500 == 0):\n",
    "        time.sleep(310)\n",
    "\n",
    "    if (i % 10 == 0):\n",
    "        rewards.append(recommendations)\n",
    "        count.append(i)\n",
    "        recommendations = 0\n",
    "\n",
    "    i = i + 1\n"
   ]
  },
  {
   "cell_type": "code",
   "execution_count": null,
   "metadata": {},
   "outputs": [],
   "source": [
    "plt.plot(count, rewards)\n",
    "plt.xlabel(\"Batch of 1000 rank events\")\n",
    "plt.ylabel(\"Correct recommendations per batch\")\n",
    "plt.show()"
   ]
  }
 ],
 "metadata": {
  "language_info": {
   "codemirror_mode": {
    "name": "ipython",
    "version": 3
   },
   "file_extension": ".py",
   "mimetype": "text/x-python",
   "name": "python",
   "nbconvert_exporter": "python",
   "pygments_lexer": "ipython3",
   "version": 3
  },
  "orig_nbformat": 2
 },
 "nbformat": 4,
 "nbformat_minor": 2
}